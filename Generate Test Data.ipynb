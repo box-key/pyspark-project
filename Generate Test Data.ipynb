{
 "cells": [
  {
   "cell_type": "code",
   "execution_count": 19,
   "metadata": {},
   "outputs": [],
   "source": [
    "import pandas as pd\n",
    "import datetime as dt\n",
    "import random"
   ]
  },
  {
   "cell_type": "code",
   "execution_count": 2,
   "metadata": {},
   "outputs": [
    {
     "name": "stderr",
     "output_type": "stream",
     "text": [
      "C:\\Users\\under\\AppData\\Local\\Continuum\\anaconda3\\lib\\site-packages\\IPython\\core\\interactiveshell.py:3049: DtypeWarning: Columns (18,23,29,38,39) have mixed types. Specify dtype option on import or set low_memory=False.\n",
      "  interactivity=interactivity, compiler=compiler, result=result)\n"
     ]
    }
   ],
   "source": [
    "df = pd.read_csv('data\\\\Parking_Violations_Issued_-_Fiscal_Year_2014.csv')"
   ]
  },
  {
   "cell_type": "code",
   "execution_count": 3,
   "metadata": {},
   "outputs": [
    {
     "data": {
      "text/plain": [
       "(9100278, 43)"
      ]
     },
     "execution_count": 3,
     "metadata": {},
     "output_type": "execute_result"
    }
   ],
   "source": [
    "df.shape"
   ]
  },
  {
   "cell_type": "code",
   "execution_count": 5,
   "metadata": {},
   "outputs": [],
   "source": [
    "df_small = df.sample(n=100)"
   ]
  },
  {
   "cell_type": "code",
   "execution_count": 7,
   "metadata": {},
   "outputs": [
    {
     "data": {
      "text/plain": [
       "Index(['Summons Number', 'Plate ID', 'Registration State', 'Plate Type',\n",
       "       'Issue Date', 'Violation Code', 'Vehicle Body Type', 'Vehicle Make',\n",
       "       'Issuing Agency', 'Street Code1', 'Street Code2', 'Street Code3',\n",
       "       'Vehicle Expiration Date', 'Violation Location', 'Violation Precinct',\n",
       "       'Issuer Precinct', 'Issuer Code', 'Issuer Command', 'Issuer Squad',\n",
       "       'Violation Time', 'Time First Observed', 'Violation County',\n",
       "       'Violation In Front Of Or Opposite', 'Number', 'Street',\n",
       "       'Intersecting Street', 'Date First Observed', 'Law Section',\n",
       "       'Sub Division', 'Violation Legal Code', 'Days Parking In Effect    ',\n",
       "       'From Hours In Effect', 'To Hours In Effect', 'Vehicle Color',\n",
       "       'Unregistered Vehicle?', 'Vehicle Year', 'Meter Number',\n",
       "       'Feet From Curb', 'Violation Post Code', 'Violation Description',\n",
       "       'No Standing or Stopping Violation', 'Hydrant Violation',\n",
       "       'Double Parking Violation'],\n",
       "      dtype='object')"
      ]
     },
     "execution_count": 7,
     "metadata": {},
     "output_type": "execute_result"
    }
   ],
   "source": [
    "df_small.columns"
   ]
  },
  {
   "cell_type": "code",
   "execution_count": 36,
   "metadata": {},
   "outputs": [
    {
     "data": {
      "text/plain": [
       "str"
      ]
     },
     "execution_count": 36,
     "metadata": {},
     "output_type": "execute_result"
    }
   ],
   "source": [
    "type(df_small['Issue Date'][0])"
   ]
  },
  {
   "cell_type": "code",
   "execution_count": 28,
   "metadata": {},
   "outputs": [],
   "source": [
    "# randomly change years\n",
    "df_small['Issue Date'] = df_small['Issue Date'].apply(lambda x: str(dt.datetime.strptime(x, '%m/%d/%Y').month) + '/' +\\\n",
    "                                                                str(dt.datetime.strptime(x, '%m/%d/%Y').day) + '/' +\\\n",
    "                                                                str(dt.datetime.strptime(x, '%m/%d/%Y').year + random.randint(0,6)))"
   ]
  },
  {
   "cell_type": "code",
   "execution_count": 30,
   "metadata": {},
   "outputs": [],
   "source": [
    "with open('violation_small.csv', 'w', newline='\\n') as f:\n",
    "    df_small.to_csv(f, index=False, header=True)"
   ]
  },
  {
   "cell_type": "code",
   "execution_count": 37,
   "metadata": {},
   "outputs": [
    {
     "data": {
      "text/plain": [
       "(100, 44)"
      ]
     },
     "execution_count": 37,
     "metadata": {},
     "output_type": "execute_result"
    }
   ],
   "source": [
    "# make sure dataframe is exported correctly\n",
    "df_small = pd.read_csv('violation_small.csv')\n",
    "df_small.shape"
   ]
  },
  {
   "cell_type": "code",
   "execution_count": 35,
   "metadata": {},
   "outputs": [
    {
     "data": {
      "text/plain": [
       "str"
      ]
     },
     "execution_count": 35,
     "metadata": {},
     "output_type": "execute_result"
    }
   ],
   "source": [
    "type(df_small['Issue Date'][0])"
   ]
  },
  {
   "cell_type": "markdown",
   "metadata": {},
   "source": [
    "# Check Borocode and County Name"
   ]
  },
  {
   "cell_type": "code",
   "execution_count": 38,
   "metadata": {},
   "outputs": [
    {
     "data": {
      "text/plain": [
       "array(['K', nan, 'NY', 'Q', 'BX', 'R', 'BRONX', 'RICH', 'KINGS', 'QUEEN',\n",
       "       'NYC', '103', 'RC'], dtype=object)"
      ]
     },
     "execution_count": 38,
     "metadata": {},
     "output_type": "execute_result"
    }
   ],
   "source": [
    "# check county names\n",
    "df['Violation County'].unique()"
   ]
  },
  {
   "cell_type": "code",
   "execution_count": 39,
   "metadata": {},
   "outputs": [],
   "source": [
    "ss = pd.read_csv('data\\\\nyc_cscl.csv')"
   ]
  },
  {
   "cell_type": "code",
   "execution_count": 40,
   "metadata": {},
   "outputs": [
    {
     "data": {
      "text/plain": [
       "array([2, 4, 3, 5, 1], dtype=int64)"
      ]
     },
     "execution_count": 40,
     "metadata": {},
     "output_type": "execute_result"
    }
   ],
   "source": [
    "ss['BOROCODE'].unique()"
   ]
  },
  {
   "cell_type": "markdown",
   "metadata": {},
   "source": [
    "# Check column names of 2015 records"
   ]
  },
  {
   "cell_type": "code",
   "execution_count": 41,
   "metadata": {},
   "outputs": [
    {
     "name": "stderr",
     "output_type": "stream",
     "text": [
      "C:\\Users\\under\\AppData\\Local\\Continuum\\anaconda3\\lib\\site-packages\\IPython\\core\\interactiveshell.py:3049: DtypeWarning: Columns (18,29,38,40,41,42) have mixed types. Specify dtype option on import or set low_memory=False.\n",
      "  interactivity=interactivity, compiler=compiler, result=result)\n"
     ]
    }
   ],
   "source": [
    "df = pd.read_csv('data\\\\Parking_Violations_Issued_-_Fiscal_Year_2015.csv')"
   ]
  },
  {
   "cell_type": "code",
   "execution_count": 42,
   "metadata": {},
   "outputs": [
    {
     "data": {
      "text/plain": [
       "Index(['Summons Number', 'Plate ID', 'Registration State', 'Plate Type',\n",
       "       'Issue Date', 'Violation Code', 'Vehicle Body Type', 'Vehicle Make',\n",
       "       'Issuing Agency', 'Street Code1', 'Street Code2', 'Street Code3',\n",
       "       'Vehicle Expiration Date', 'Violation Location', 'Violation Precinct',\n",
       "       'Issuer Precinct', 'Issuer Code', 'Issuer Command', 'Issuer Squad',\n",
       "       'Violation Time', 'Time First Observed', 'Violation County',\n",
       "       'Violation In Front Of Or Opposite', 'House Number', 'Street Name',\n",
       "       'Intersecting Street', 'Date First Observed', 'Law Section',\n",
       "       'Sub Division', 'Violation Legal Code', 'Days Parking In Effect    ',\n",
       "       'From Hours In Effect', 'To Hours In Effect', 'Vehicle Color',\n",
       "       'Unregistered Vehicle?', 'Vehicle Year', 'Meter Number',\n",
       "       'Feet From Curb', 'Violation Post Code', 'Violation Description',\n",
       "       'No Standing or Stopping Violation', 'Hydrant Violation',\n",
       "       'Double Parking Violation'],\n",
       "      dtype='object')"
      ]
     },
     "execution_count": 42,
     "metadata": {},
     "output_type": "execute_result"
    }
   ],
   "source": [
    "df.columns"
   ]
  },
  {
   "cell_type": "code",
   "execution_count": 45,
   "metadata": {},
   "outputs": [],
   "source": [
    "df_small = df.sample(n=100)"
   ]
  },
  {
   "cell_type": "code",
   "execution_count": 46,
   "metadata": {},
   "outputs": [],
   "source": [
    "# randomly change years\n",
    "df_small['Issue Date'] = df_small['Issue Date'].apply(lambda x: str(dt.datetime.strptime(x, '%m/%d/%Y').month) + '/' +\\\n",
    "                                                                str(dt.datetime.strptime(x, '%m/%d/%Y').day) + '/' +\\\n",
    "                                                                str(dt.datetime.strptime(x, '%m/%d/%Y').year + random.randint(0,5)))"
   ]
  },
  {
   "cell_type": "code",
   "execution_count": 48,
   "metadata": {},
   "outputs": [],
   "source": [
    "with open('violation_small.csv', 'w', newline='\\n') as f:\n",
    "    df_small.to_csv(f, index=False, header=True)"
   ]
  },
  {
   "cell_type": "code",
   "execution_count": 49,
   "metadata": {},
   "outputs": [
    {
     "data": {
      "text/plain": [
       "array(['NY', 'K', 'Q', 'BX', 'R', nan, 'NEW Y', 'MAN', 'KING', 'KINGS',\n",
       "       'QUEEN', 'NEWY', 'BRONX', 'QU', 'MH'], dtype=object)"
      ]
     },
     "execution_count": 49,
     "metadata": {},
     "output_type": "execute_result"
    }
   ],
   "source": [
    "# check county names\n",
    "df['Violation County'].unique()"
   ]
  },
  {
   "cell_type": "code",
   "execution_count": 50,
   "metadata": {},
   "outputs": [
    {
     "data": {
      "text/plain": [
       "['178', '09']"
      ]
     },
     "execution_count": 50,
     "metadata": {},
     "output_type": "execute_result"
    }
   ],
   "source": [
    "'178-09'.split('-')"
   ]
  },
  {
   "cell_type": "code",
   "execution_count": 51,
   "metadata": {},
   "outputs": [
    {
     "data": {
      "text/plain": [
       "['178']"
      ]
     },
     "execution_count": 51,
     "metadata": {},
     "output_type": "execute_result"
    }
   ],
   "source": [
    "'178'.split('-')"
   ]
  },
  {
   "cell_type": "code",
   "execution_count": 52,
   "metadata": {},
   "outputs": [
    {
     "data": {
      "text/plain": [
       "9"
      ]
     },
     "execution_count": 52,
     "metadata": {},
     "output_type": "execute_result"
    }
   ],
   "source": [
    "int('09')"
   ]
  },
  {
   "cell_type": "code",
   "execution_count": 55,
   "metadata": {},
   "outputs": [
    {
     "data": {
      "text/plain": [
       "18709"
      ]
     },
     "execution_count": 55,
     "metadata": {},
     "output_type": "execute_result"
    }
   ],
   "source": [
    "int('187-09'.replace('-', ''))"
   ]
  },
  {
   "cell_type": "code",
   "execution_count": 56,
   "metadata": {},
   "outputs": [
    {
     "data": {
      "text/plain": [
       "187"
      ]
     },
     "execution_count": 56,
     "metadata": {},
     "output_type": "execute_result"
    }
   ],
   "source": [
    "int('187'.replace('-', ''))"
   ]
  },
  {
   "cell_type": "code",
   "execution_count": 62,
   "metadata": {},
   "outputs": [
    {
     "data": {
      "text/plain": [
       "array([['BX', '1/26/2016'],\n",
       "       [nan, '2/2/2018'],\n",
       "       ['Q', '10/11/2014'],\n",
       "       ['Q', '9/24/2014'],\n",
       "       [nan, '12/7/2018'],\n",
       "       ['Q', '5/15/2017'],\n",
       "       ['NY', '12/17/2017'],\n",
       "       [nan, '5/15/2018'],\n",
       "       [nan, '10/31/2014'],\n",
       "       ['NY', '2/19/2015'],\n",
       "       ['Q', '1/16/2017'],\n",
       "       [nan, '1/15/2016'],\n",
       "       ['NY', '3/3/2018'],\n",
       "       ['K', '11/21/2016'],\n",
       "       [nan, '11/25/2017'],\n",
       "       ['K', '12/24/2018'],\n",
       "       ['NY', '5/9/2016'],\n",
       "       ['Q', '6/24/2016'],\n",
       "       ['K', '4/27/2020'],\n",
       "       ['K', '10/1/2015'],\n",
       "       ['Q', '3/18/2015'],\n",
       "       [nan, '1/13/2019'],\n",
       "       ['NY', '11/10/2019'],\n",
       "       ['Q', '11/3/2014'],\n",
       "       [nan, '3/21/2019'],\n",
       "       ['K', '3/3/2020'],\n",
       "       ['Q', '11/24/2019'],\n",
       "       ['BX', '2/25/2019'],\n",
       "       ['Q', '10/1/2014'],\n",
       "       ['Q', '3/27/2019'],\n",
       "       ['NY', '7/21/2017'],\n",
       "       ['NY', '4/28/2016'],\n",
       "       ['K', '3/19/2019'],\n",
       "       ['Q', '3/3/2016'],\n",
       "       ['NY', '4/10/2019'],\n",
       "       [nan, '4/15/2015'],\n",
       "       ['Q', '11/6/2019'],\n",
       "       ['NY', '1/5/2016'],\n",
       "       ['K', '3/3/2016'],\n",
       "       ['BX', '6/14/2019'],\n",
       "       ['BX', '5/28/2016'],\n",
       "       ['NY', '4/22/2019'],\n",
       "       ['NY', '10/27/2019'],\n",
       "       ['BX', '8/3/2015'],\n",
       "       ['Q', '2/25/2020'],\n",
       "       ['NY', '1/10/2016'],\n",
       "       ['K', '3/21/2020'],\n",
       "       ['K', '4/25/2016'],\n",
       "       ['NY', '3/14/2020'],\n",
       "       ['K', '6/12/2020'],\n",
       "       [nan, '1/1/2017'],\n",
       "       ['NY', '6/19/2018'],\n",
       "       ['NY', '4/1/2020'],\n",
       "       ['Q', '1/15/2015'],\n",
       "       ['NY', '8/2/2018'],\n",
       "       [nan, '4/16/2019'],\n",
       "       ['NY', '5/30/2018'],\n",
       "       ['NY', '1/7/2017'],\n",
       "       ['NY', '3/4/2017'],\n",
       "       ['K', '8/9/2014'],\n",
       "       ['BX', '3/27/2020'],\n",
       "       ['R', '3/27/2016'],\n",
       "       ['NY', '12/16/2019'],\n",
       "       ['K', '8/19/2015'],\n",
       "       ['BX', '9/24/2018'],\n",
       "       [nan, '12/12/2016'],\n",
       "       ['NY', '9/5/2014'],\n",
       "       ['NY', '1/31/2020'],\n",
       "       [nan, '5/27/2018'],\n",
       "       ['BX', '1/22/2020'],\n",
       "       ['Q', '6/30/2020'],\n",
       "       ['K', '9/17/2017'],\n",
       "       ['NY', '3/12/2017'],\n",
       "       ['NY', '10/15/2018'],\n",
       "       ['K', '5/28/2019'],\n",
       "       [nan, '4/1/2020'],\n",
       "       ['K', '12/27/2017'],\n",
       "       ['K', '7/28/2014'],\n",
       "       ['NY', '9/6/2016'],\n",
       "       ['NY', '4/16/2020'],\n",
       "       ['NY', '11/19/2017'],\n",
       "       ['BX', '11/28/2016'],\n",
       "       ['NY', '5/13/2016'],\n",
       "       ['NY', '8/4/2015'],\n",
       "       ['NY', '1/2/2020'],\n",
       "       ['NY', '8/9/2015'],\n",
       "       [nan, '9/18/2017'],\n",
       "       [nan, '6/14/2014'],\n",
       "       ['NY', '12/30/2016'],\n",
       "       ['BX', '1/22/2017'],\n",
       "       ['NY', '6/16/2019'],\n",
       "       ['BX', '3/20/2017'],\n",
       "       ['Q', '5/22/2018'],\n",
       "       ['Q', '10/22/2018'],\n",
       "       ['NY', '7/24/2017'],\n",
       "       ['BX', '1/4/2015'],\n",
       "       ['NY', '8/21/2016'],\n",
       "       ['Q', '10/25/2016'],\n",
       "       ['Q', '7/18/2018'],\n",
       "       ['Q', '8/22/2014']], dtype=object)"
      ]
     },
     "execution_count": 62,
     "metadata": {},
     "output_type": "execute_result"
    }
   ],
   "source": [
    "df_small[['Violation County', 'Issue Date']].to_numpy()"
   ]
  },
  {
   "cell_type": "code",
   "execution_count": 65,
   "metadata": {},
   "outputs": [
    {
     "data": {
      "text/html": [
       "<div>\n",
       "<style scoped>\n",
       "    .dataframe tbody tr th:only-of-type {\n",
       "        vertical-align: middle;\n",
       "    }\n",
       "\n",
       "    .dataframe tbody tr th {\n",
       "        vertical-align: top;\n",
       "    }\n",
       "\n",
       "    .dataframe thead th {\n",
       "        text-align: right;\n",
       "    }\n",
       "</style>\n",
       "<table border=\"1\" class=\"dataframe\">\n",
       "  <thead>\n",
       "    <tr style=\"text-align: right;\">\n",
       "      <th></th>\n",
       "      <th>House Number</th>\n",
       "      <th>Street Name</th>\n",
       "      <th>Violation County</th>\n",
       "    </tr>\n",
       "  </thead>\n",
       "  <tbody>\n",
       "    <tr>\n",
       "      <th>2523148</th>\n",
       "      <td>138-40</td>\n",
       "      <td>101st Ave</td>\n",
       "      <td>Q</td>\n",
       "    </tr>\n",
       "    <tr>\n",
       "      <th>2101851</th>\n",
       "      <td>19-52</td>\n",
       "      <td>81st St</td>\n",
       "      <td>Q</td>\n",
       "    </tr>\n",
       "    <tr>\n",
       "      <th>11519317</th>\n",
       "      <td>105-07</td>\n",
       "      <td>Jamaica Ave</td>\n",
       "      <td>Q</td>\n",
       "    </tr>\n",
       "  </tbody>\n",
       "</table>\n",
       "</div>"
      ],
      "text/plain": [
       "         House Number  Street Name Violation County\n",
       "2523148        138-40    101st Ave                Q\n",
       "2101851         19-52      81st St                Q\n",
       "11519317       105-07  Jamaica Ave                Q"
      ]
     },
     "execution_count": 65,
     "metadata": {},
     "output_type": "execute_result"
    }
   ],
   "source": [
    "df_small[df_small['Plate ID'].apply(lambda x: x in ['DXN9023', 'FLX1145', '42530JU'])][['House Number', 'Street Name', 'Violation County']]"
   ]
  },
  {
   "cell_type": "code",
   "execution_count": 66,
   "metadata": {},
   "outputs": [],
   "source": [
    "df_lookup = pd.read_csv('data\\\\nyc_cscl.csv')"
   ]
  },
  {
   "cell_type": "code",
   "execution_count": 78,
   "metadata": {},
   "outputs": [
    {
     "data": {
      "text/plain": [
       "array([['134-000', '135-098', '134-001', '135-099'],\n",
       "       ['218-000', '218-098', '218-001', '218-099'],\n",
       "       ['139-000', '142-098', '139-001', '142-099'],\n",
       "       [nan, nan, nan, nan],\n",
       "       ['94-000', '94-098', '94-001', '94-099'],\n",
       "       ['106-020', '106-098', '107-001', '107-003'],\n",
       "       ['97-000', '97-098', '97-001', '97-099'],\n",
       "       ['114-000', '114-098', '114-001', '114-099'],\n",
       "       ['111-000', '111-098', '111-001', '111-099'],\n",
       "       ['130-000', '130-098', '130-003', '130-099'],\n",
       "       ['127-026', '128-098', '129-001', '129-005'],\n",
       "       ['136-000', '136-048', '136-001', '136-049'],\n",
       "       ['132-000', '132-098', '132-001', '132-099'],\n",
       "       ['107-000', '107-016', '107-005', '107-099'],\n",
       "       ['0', '0', '75-019', '75-099'],\n",
       "       ['137-000', '137-098', '137-001', '137-099'],\n",
       "       ['112-000', '112-098', '112-001', '112-099'],\n",
       "       ['143-026', '143-098', '143-025', '143-099'],\n",
       "       ['87-000', '87-098', '87-001', '87-099'],\n",
       "       ['96-000', '96-098', '96-001', '96-099'],\n",
       "       ['108-000', '108-016', '108-005', '108-099'],\n",
       "       ['115-000', '115-098', '115-001', '115-099'],\n",
       "       ['81-000', '81-098', '81-001', '81-099'],\n",
       "       ['223-000', '223-098', '223-001', '223-099'],\n",
       "       ['102-000', '102-098', '102-001', '102-099'],\n",
       "       ['125-000', '125-098', '125-001', '125-099'],\n",
       "       ['106-000', '106-018', '106-005', '106-099'],\n",
       "       ['119-000', '119-098', '119-001', '119-099'],\n",
       "       ['110-000', '110-098', '110-005', '110-099'],\n",
       "       ['144-000', '144-098', '144-001', '144-099'],\n",
       "       ['138-000', '138-022', '138-001', '138-023'],\n",
       "       ['85-000', '85-098', '85-001', '85-099'],\n",
       "       ['84-000', '84-098', '84-001', '84-099'],\n",
       "       ['117-000', '117-098', '117-001', '117-099'],\n",
       "       ['145-000', '146-098', '145-001', '146-099'],\n",
       "       [nan, nan, nan, nan],\n",
       "       ['105-024', '105-098', '106-001', '106-003'],\n",
       "       ['77-006', '77-098', '77-001', '77-099'],\n",
       "       ['89-000', '89-098', '89-001', '89-099'],\n",
       "       ['109-026', '109-098', '110-001', '110-003'],\n",
       "       ['220-000', '220-098', '220-001', '220-099'],\n",
       "       ['74-000', '74-098', '74-001', '74-099'],\n",
       "       [nan, nan, nan, nan],\n",
       "       [nan, nan, nan, nan],\n",
       "       ['143-000', '143-024', '143-001', '143-023'],\n",
       "       ['80-000', '80-098', '80-001', '80-099'],\n",
       "       ['127-000', '127-024', '127-001', '128-099'],\n",
       "       ['116-000', '116-098', '116-001', '116-099'],\n",
       "       ['222-000', '222-098', '222-001', '222-099'],\n",
       "       ['75-000', '75-098', '75-001', '75-017'],\n",
       "       ['129-032', '129-098', '130-001', '130-001'],\n",
       "       ['99-000', '99-098', '99-001', '99-099'],\n",
       "       ['120-000', '120-098', '120-001', '120-099'],\n",
       "       ['126-000', '126-098', '126-001', '126-099'],\n",
       "       ['121-000', '122-098', '121-001', '122-099'],\n",
       "       ['131-000', '131-098', '131-001', '131-099'],\n",
       "       ['83-000', '83-098', '83-001', '83-099'],\n",
       "       ['118-000', '118-098', '118-001', '118-099'],\n",
       "       ['104-000', '104-098', '104-001', '104-099'],\n",
       "       ['77-000', '77-004', '0', '0'],\n",
       "       ['93-000', '93-098', '93-001', '93-099'],\n",
       "       ['82-000', '82-098', '82-001', '82-099'],\n",
       "       ['100-000', '100-098', '100-001', '100-099'],\n",
       "       ['221-000', '221-098', '221-001', '221-099'],\n",
       "       ['76-000', '76-098', '76-001', '76-099'],\n",
       "       ['123-000', '123-098', '123-001', '123-099'],\n",
       "       ['101-000', '101-098', '101-001', '101-099'],\n",
       "       ['98-000', '98-098', '98-001', '98-099'],\n",
       "       ['92-000', '92-098', '92-001', '92-099'],\n",
       "       ['113-000', '113-098', '113-001', '113-099'],\n",
       "       [nan, nan, nan, nan],\n",
       "       ['91-000', '91-098', '91-001', '91-099'],\n",
       "       ['88-000', '88-098', '88-001', '88-099'],\n",
       "       ['90-000', '90-098', '90-001', '90-099'],\n",
       "       ['109-000', '109-024', '109-005', '109-099'],\n",
       "       ['133-000', '133-098', '133-001', '133-099'],\n",
       "       ['95-000', '95-098', '95-001', '95-099'],\n",
       "       ['105-000', '105-022', '105-001', '105-099'],\n",
       "       ['108-018', '108-098', '109-001', '109-003'],\n",
       "       ['138-024', '138-098', '138-025', '138-099'],\n",
       "       ['86-000', '86-098', '86-001', '86-099'],\n",
       "       ['124-000', '124-098', '124-001', '124-099'],\n",
       "       ['78-000', '79-098', '78-001', '79-099'],\n",
       "       ['219-000', '219-098', '219-001', '219-099'],\n",
       "       [nan, nan, nan, nan],\n",
       "       ['129-000', '129-030', '129-007', '129-099'],\n",
       "       [nan, nan, nan, nan],\n",
       "       ['107-018', '107-098', '108-001', '108-003'],\n",
       "       ['103-000', '103-098', '103-001', '103-099']], dtype=object)"
      ]
     },
     "execution_count": 78,
     "metadata": {},
     "output_type": "execute_result"
    }
   ],
   "source": [
    "df_lookup[(df_lookup['FULL_STREE'].str.lower() == '101st ave') & (df_lookup['BOROCODE'] == 4)][['R_LOW_HN', 'R_HIGH_HN', 'L_LOW_HN', 'L_HIGH_HN']].to_numpy()"
   ]
  },
  {
   "cell_type": "code",
   "execution_count": 91,
   "metadata": {},
   "outputs": [
    {
     "data": {
      "text/plain": [
       "'13004'"
      ]
     },
     "execution_count": 91,
     "metadata": {},
     "output_type": "execute_result"
    }
   ],
   "source": [
    "import re\n",
    "re.sub('-0|-', '', '130-004')"
   ]
  },
  {
   "cell_type": "code",
   "execution_count": null,
   "metadata": {},
   "outputs": [],
   "source": []
  }
 ],
 "metadata": {
  "kernelspec": {
   "display_name": "Python 3",
   "language": "python",
   "name": "python3"
  },
  "language_info": {
   "codemirror_mode": {
    "name": "ipython",
    "version": 3
   },
   "file_extension": ".py",
   "mimetype": "text/x-python",
   "name": "python",
   "nbconvert_exporter": "python",
   "pygments_lexer": "ipython3",
   "version": "3.7.3"
  }
 },
 "nbformat": 4,
 "nbformat_minor": 2
}
